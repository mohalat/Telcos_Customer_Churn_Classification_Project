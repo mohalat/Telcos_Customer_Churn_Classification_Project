{
 "cells": [
  {
   "cell_type": "markdown",
   "metadata": {},
   "source": [
    "2.0 Data Understanding"
   ]
  },
  {
   "cell_type": "code",
   "execution_count": null,
   "metadata": {},
   "outputs": [],
   "source": []
  },
  {
   "cell_type": "code",
   "execution_count": null,
   "metadata": {},
   "outputs": [],
   "source": []
  },
  {
   "cell_type": "markdown",
   "metadata": {},
   "source": [
    "2.1 Inspecting the dataset"
   ]
  },
  {
   "cell_type": "code",
   "execution_count": null,
   "metadata": {},
   "outputs": [],
   "source": []
  },
  {
   "cell_type": "markdown",
   "metadata": {},
   "source": [
    "2.2 Installing and importing required libraries and modules"
   ]
  },
  {
   "cell_type": "code",
   "execution_count": 15,
   "metadata": {},
   "outputs": [],
   "source": [
    "# %pip install pyodbc  \n",
    "# %pip install python-dotenv\n",
    "\n",
    "import pandas as pd\n",
    "import numpy as np\n",
    "from  dotenv import dotenv_values\n",
    "import pyodbc\n",
    "\n",
    "# Suppress all warnings\n",
    "import warnings \n",
    "warnings.filterwarnings('ignore')\n",
    "\n",
    "# set display options to view all columns\n",
    "pd.set_option(\"display.max_columns\",None)"
   ]
  },
  {
   "cell_type": "code",
   "execution_count": null,
   "metadata": {},
   "outputs": [],
   "source": []
  },
  {
   "cell_type": "markdown",
   "metadata": {},
   "source": [
    "2.3 Loading the datasets"
   ]
  },
  {
   "cell_type": "markdown",
   "metadata": {},
   "source": [
    "# Connecting to train database 1: \n",
    "\n",
    "# Load environment variables from .env file into a dictionary:\n",
    "# environment_variables = dotenv_values('.env')\n",
    "\n",
    "# Get the values for the credentials you set in the '.env' file:\n",
    "# server = environment_variables.get(\"SERVER\")\n",
    "# database = environment_variables.get(\"DATABASE\")\n",
    "# username = environment_variables.get(\"USERNAME\")\n",
    "# password = environment_variables.get(\"PASSWORD\")\n",
    "\n",
    "\n",
    "# connection_string = f\"DRIVER={{SQL Server}};SERVER={server};DATABASE={database};UID={username};PWD={password};MARS_Connection=yes;MinProtocolVersion=TLSv1.2;\""
   ]
  },
  {
   "cell_type": "code",
   "execution_count": 2,
   "metadata": {},
   "outputs": [],
   "source": [
    "# Loading train dataframe 1 as train_df1\n",
    "train_df1 = pd.read_csv('Telco-churn-first-3000.csv')"
   ]
  },
  {
   "cell_type": "code",
   "execution_count": 3,
   "metadata": {},
   "outputs": [
    {
     "data": {
      "text/html": [
       "<div>\n",
       "<style scoped>\n",
       "    .dataframe tbody tr th:only-of-type {\n",
       "        vertical-align: middle;\n",
       "    }\n",
       "\n",
       "    .dataframe tbody tr th {\n",
       "        vertical-align: top;\n",
       "    }\n",
       "\n",
       "    .dataframe thead th {\n",
       "        text-align: right;\n",
       "    }\n",
       "</style>\n",
       "<table border=\"1\" class=\"dataframe\">\n",
       "  <thead>\n",
       "    <tr style=\"text-align: right;\">\n",
       "      <th></th>\n",
       "      <th>customerID</th>\n",
       "      <th>gender</th>\n",
       "      <th>SeniorCitizen</th>\n",
       "      <th>Partner</th>\n",
       "      <th>Dependents</th>\n",
       "      <th>tenure</th>\n",
       "      <th>PhoneService</th>\n",
       "      <th>MultipleLines</th>\n",
       "      <th>InternetService</th>\n",
       "      <th>OnlineSecurity</th>\n",
       "      <th>OnlineBackup</th>\n",
       "      <th>DeviceProtection</th>\n",
       "      <th>TechSupport</th>\n",
       "      <th>StreamingTV</th>\n",
       "      <th>StreamingMovies</th>\n",
       "      <th>Contract</th>\n",
       "      <th>PaperlessBilling</th>\n",
       "      <th>PaymentMethod</th>\n",
       "      <th>MonthlyCharges</th>\n",
       "      <th>TotalCharges</th>\n",
       "      <th>Churn</th>\n",
       "    </tr>\n",
       "  </thead>\n",
       "  <tbody>\n",
       "    <tr>\n",
       "      <th>0</th>\n",
       "      <td>7590-VHVEG</td>\n",
       "      <td>Female</td>\n",
       "      <td>False</td>\n",
       "      <td>True</td>\n",
       "      <td>False</td>\n",
       "      <td>1</td>\n",
       "      <td>False</td>\n",
       "      <td>NaN</td>\n",
       "      <td>DSL</td>\n",
       "      <td>False</td>\n",
       "      <td>True</td>\n",
       "      <td>False</td>\n",
       "      <td>False</td>\n",
       "      <td>False</td>\n",
       "      <td>False</td>\n",
       "      <td>Month-to-month</td>\n",
       "      <td>True</td>\n",
       "      <td>Electronic check</td>\n",
       "      <td>29.850000</td>\n",
       "      <td>29.850000</td>\n",
       "      <td>False</td>\n",
       "    </tr>\n",
       "    <tr>\n",
       "      <th>1</th>\n",
       "      <td>5575-GNVDE</td>\n",
       "      <td>Male</td>\n",
       "      <td>False</td>\n",
       "      <td>False</td>\n",
       "      <td>False</td>\n",
       "      <td>34</td>\n",
       "      <td>True</td>\n",
       "      <td>False</td>\n",
       "      <td>DSL</td>\n",
       "      <td>True</td>\n",
       "      <td>False</td>\n",
       "      <td>True</td>\n",
       "      <td>False</td>\n",
       "      <td>False</td>\n",
       "      <td>False</td>\n",
       "      <td>One year</td>\n",
       "      <td>False</td>\n",
       "      <td>Mailed check</td>\n",
       "      <td>56.950001</td>\n",
       "      <td>1889.500000</td>\n",
       "      <td>False</td>\n",
       "    </tr>\n",
       "    <tr>\n",
       "      <th>2</th>\n",
       "      <td>3668-QPYBK</td>\n",
       "      <td>Male</td>\n",
       "      <td>False</td>\n",
       "      <td>False</td>\n",
       "      <td>False</td>\n",
       "      <td>2</td>\n",
       "      <td>True</td>\n",
       "      <td>False</td>\n",
       "      <td>DSL</td>\n",
       "      <td>True</td>\n",
       "      <td>True</td>\n",
       "      <td>False</td>\n",
       "      <td>False</td>\n",
       "      <td>False</td>\n",
       "      <td>False</td>\n",
       "      <td>Month-to-month</td>\n",
       "      <td>True</td>\n",
       "      <td>Mailed check</td>\n",
       "      <td>53.849998</td>\n",
       "      <td>108.150002</td>\n",
       "      <td>True</td>\n",
       "    </tr>\n",
       "    <tr>\n",
       "      <th>3</th>\n",
       "      <td>7795-CFOCW</td>\n",
       "      <td>Male</td>\n",
       "      <td>False</td>\n",
       "      <td>False</td>\n",
       "      <td>False</td>\n",
       "      <td>45</td>\n",
       "      <td>False</td>\n",
       "      <td>NaN</td>\n",
       "      <td>DSL</td>\n",
       "      <td>True</td>\n",
       "      <td>False</td>\n",
       "      <td>True</td>\n",
       "      <td>True</td>\n",
       "      <td>False</td>\n",
       "      <td>False</td>\n",
       "      <td>One year</td>\n",
       "      <td>False</td>\n",
       "      <td>Bank transfer (automatic)</td>\n",
       "      <td>42.299999</td>\n",
       "      <td>1840.750000</td>\n",
       "      <td>False</td>\n",
       "    </tr>\n",
       "    <tr>\n",
       "      <th>4</th>\n",
       "      <td>9237-HQITU</td>\n",
       "      <td>Female</td>\n",
       "      <td>False</td>\n",
       "      <td>False</td>\n",
       "      <td>False</td>\n",
       "      <td>2</td>\n",
       "      <td>True</td>\n",
       "      <td>False</td>\n",
       "      <td>Fiber optic</td>\n",
       "      <td>False</td>\n",
       "      <td>False</td>\n",
       "      <td>False</td>\n",
       "      <td>False</td>\n",
       "      <td>False</td>\n",
       "      <td>False</td>\n",
       "      <td>Month-to-month</td>\n",
       "      <td>True</td>\n",
       "      <td>Electronic check</td>\n",
       "      <td>70.699997</td>\n",
       "      <td>151.649994</td>\n",
       "      <td>True</td>\n",
       "    </tr>\n",
       "  </tbody>\n",
       "</table>\n",
       "</div>"
      ],
      "text/plain": [
       "   customerID  gender  SeniorCitizen  Partner  Dependents  tenure  \\\n",
       "0  7590-VHVEG  Female          False     True       False       1   \n",
       "1  5575-GNVDE    Male          False    False       False      34   \n",
       "2  3668-QPYBK    Male          False    False       False       2   \n",
       "3  7795-CFOCW    Male          False    False       False      45   \n",
       "4  9237-HQITU  Female          False    False       False       2   \n",
       "\n",
       "   PhoneService MultipleLines InternetService OnlineSecurity OnlineBackup  \\\n",
       "0         False           NaN             DSL          False         True   \n",
       "1          True         False             DSL           True        False   \n",
       "2          True         False             DSL           True         True   \n",
       "3         False           NaN             DSL           True        False   \n",
       "4          True         False     Fiber optic          False        False   \n",
       "\n",
       "  DeviceProtection TechSupport StreamingTV StreamingMovies        Contract  \\\n",
       "0            False       False       False           False  Month-to-month   \n",
       "1             True       False       False           False        One year   \n",
       "2            False       False       False           False  Month-to-month   \n",
       "3             True        True       False           False        One year   \n",
       "4            False       False       False           False  Month-to-month   \n",
       "\n",
       "   PaperlessBilling              PaymentMethod  MonthlyCharges  TotalCharges  \\\n",
       "0              True           Electronic check       29.850000     29.850000   \n",
       "1             False               Mailed check       56.950001   1889.500000   \n",
       "2              True               Mailed check       53.849998    108.150002   \n",
       "3             False  Bank transfer (automatic)       42.299999   1840.750000   \n",
       "4              True           Electronic check       70.699997    151.649994   \n",
       "\n",
       "   Churn  \n",
       "0  False  \n",
       "1  False  \n",
       "2   True  \n",
       "3  False  \n",
       "4   True  "
      ]
     },
     "execution_count": 3,
     "metadata": {},
     "output_type": "execute_result"
    }
   ],
   "source": [
    "train_df1.head()"
   ]
  },
  {
   "cell_type": "code",
   "execution_count": 4,
   "metadata": {},
   "outputs": [
    {
     "name": "stdout",
     "output_type": "stream",
     "text": [
      "<class 'pandas.core.frame.DataFrame'>\n",
      "RangeIndex: 3000 entries, 0 to 2999\n",
      "Data columns (total 21 columns):\n",
      " #   Column            Non-Null Count  Dtype  \n",
      "---  ------            --------------  -----  \n",
      " 0   customerID        3000 non-null   object \n",
      " 1   gender            3000 non-null   object \n",
      " 2   SeniorCitizen     3000 non-null   bool   \n",
      " 3   Partner           3000 non-null   bool   \n",
      " 4   Dependents        3000 non-null   bool   \n",
      " 5   tenure            3000 non-null   int64  \n",
      " 6   PhoneService      3000 non-null   bool   \n",
      " 7   MultipleLines     2731 non-null   object \n",
      " 8   InternetService   3000 non-null   object \n",
      " 9   OnlineSecurity    2349 non-null   object \n",
      " 10  OnlineBackup      2349 non-null   object \n",
      " 11  DeviceProtection  2349 non-null   object \n",
      " 12  TechSupport       2349 non-null   object \n",
      " 13  StreamingTV       2349 non-null   object \n",
      " 14  StreamingMovies   2349 non-null   object \n",
      " 15  Contract          3000 non-null   object \n",
      " 16  PaperlessBilling  3000 non-null   bool   \n",
      " 17  PaymentMethod     3000 non-null   object \n",
      " 18  MonthlyCharges    3000 non-null   float64\n",
      " 19  TotalCharges      2995 non-null   float64\n",
      " 20  Churn             2999 non-null   object \n",
      "dtypes: bool(5), float64(2), int64(1), object(13)\n",
      "memory usage: 389.8+ KB\n"
     ]
    }
   ],
   "source": [
    "train_df1.info()"
   ]
  },
  {
   "cell_type": "code",
   "execution_count": 5,
   "metadata": {},
   "outputs": [
    {
     "data": {
      "text/plain": [
       "customerID            0\n",
       "gender                0\n",
       "SeniorCitizen         0\n",
       "Partner               0\n",
       "Dependents            0\n",
       "tenure                0\n",
       "PhoneService          0\n",
       "MultipleLines       269\n",
       "InternetService       0\n",
       "OnlineSecurity      651\n",
       "OnlineBackup        651\n",
       "DeviceProtection    651\n",
       "TechSupport         651\n",
       "StreamingTV         651\n",
       "StreamingMovies     651\n",
       "Contract              0\n",
       "PaperlessBilling      0\n",
       "PaymentMethod         0\n",
       "MonthlyCharges        0\n",
       "TotalCharges          5\n",
       "Churn                 1\n",
       "dtype: int64"
      ]
     },
     "execution_count": 5,
     "metadata": {},
     "output_type": "execute_result"
    }
   ],
   "source": [
    "train_df1.isna().sum()"
   ]
  },
  {
   "cell_type": "code",
   "execution_count": 17,
   "metadata": {},
   "outputs": [
    {
     "data": {
      "text/plain": [
       "customerID          3000\n",
       "gender                 2\n",
       "SeniorCitizen          2\n",
       "Partner                2\n",
       "Dependents             2\n",
       "tenure                73\n",
       "PhoneService           2\n",
       "MultipleLines          2\n",
       "InternetService        3\n",
       "OnlineSecurity         2\n",
       "OnlineBackup           2\n",
       "DeviceProtection       2\n",
       "TechSupport            2\n",
       "StreamingTV            2\n",
       "StreamingMovies        2\n",
       "Contract               3\n",
       "PaperlessBilling       2\n",
       "PaymentMethod          4\n",
       "MonthlyCharges      1198\n",
       "TotalCharges        2893\n",
       "Churn                  2\n",
       "dtype: int64"
      ]
     },
     "execution_count": 17,
     "metadata": {},
     "output_type": "execute_result"
    }
   ],
   "source": [
    "train_df1.nunique()"
   ]
  },
  {
   "cell_type": "code",
   "execution_count": 6,
   "metadata": {},
   "outputs": [
    {
     "data": {
      "text/plain": [
       "np.int64(0)"
      ]
     },
     "execution_count": 6,
     "metadata": {},
     "output_type": "execute_result"
    }
   ],
   "source": [
    "train_df1.duplicated().sum()"
   ]
  },
  {
   "cell_type": "code",
   "execution_count": 7,
   "metadata": {},
   "outputs": [
    {
     "data": {
      "text/plain": [
       "(3000, 21)"
      ]
     },
     "execution_count": 7,
     "metadata": {},
     "output_type": "execute_result"
    }
   ],
   "source": [
    "train_df1.shape"
   ]
  },
  {
   "cell_type": "code",
   "execution_count": null,
   "metadata": {},
   "outputs": [],
   "source": []
  },
  {
   "cell_type": "code",
   "execution_count": 9,
   "metadata": {},
   "outputs": [],
   "source": [
    "# Loading train dataframe 2 as train_df2\n",
    "train_df2 = pd.read_csv('LP2_Telco-churn-second-2000.csv')"
   ]
  },
  {
   "cell_type": "code",
   "execution_count": 10,
   "metadata": {},
   "outputs": [
    {
     "data": {
      "text/html": [
       "<div>\n",
       "<style scoped>\n",
       "    .dataframe tbody tr th:only-of-type {\n",
       "        vertical-align: middle;\n",
       "    }\n",
       "\n",
       "    .dataframe tbody tr th {\n",
       "        vertical-align: top;\n",
       "    }\n",
       "\n",
       "    .dataframe thead th {\n",
       "        text-align: right;\n",
       "    }\n",
       "</style>\n",
       "<table border=\"1\" class=\"dataframe\">\n",
       "  <thead>\n",
       "    <tr style=\"text-align: right;\">\n",
       "      <th></th>\n",
       "      <th>customerID</th>\n",
       "      <th>gender</th>\n",
       "      <th>SeniorCitizen</th>\n",
       "      <th>Partner</th>\n",
       "      <th>Dependents</th>\n",
       "      <th>tenure</th>\n",
       "      <th>PhoneService</th>\n",
       "      <th>MultipleLines</th>\n",
       "      <th>InternetService</th>\n",
       "      <th>OnlineSecurity</th>\n",
       "      <th>OnlineBackup</th>\n",
       "      <th>DeviceProtection</th>\n",
       "      <th>TechSupport</th>\n",
       "      <th>StreamingTV</th>\n",
       "      <th>StreamingMovies</th>\n",
       "      <th>Contract</th>\n",
       "      <th>PaperlessBilling</th>\n",
       "      <th>PaymentMethod</th>\n",
       "      <th>MonthlyCharges</th>\n",
       "      <th>TotalCharges</th>\n",
       "      <th>Churn</th>\n",
       "    </tr>\n",
       "  </thead>\n",
       "  <tbody>\n",
       "    <tr>\n",
       "      <th>0</th>\n",
       "      <td>5600-PDUJF</td>\n",
       "      <td>Male</td>\n",
       "      <td>0</td>\n",
       "      <td>No</td>\n",
       "      <td>No</td>\n",
       "      <td>6</td>\n",
       "      <td>Yes</td>\n",
       "      <td>No</td>\n",
       "      <td>DSL</td>\n",
       "      <td>No</td>\n",
       "      <td>No</td>\n",
       "      <td>No</td>\n",
       "      <td>Yes</td>\n",
       "      <td>No</td>\n",
       "      <td>No</td>\n",
       "      <td>Month-to-month</td>\n",
       "      <td>Yes</td>\n",
       "      <td>Credit card (automatic)</td>\n",
       "      <td>49.50</td>\n",
       "      <td>312.7</td>\n",
       "      <td>No</td>\n",
       "    </tr>\n",
       "    <tr>\n",
       "      <th>1</th>\n",
       "      <td>8292-TYSPY</td>\n",
       "      <td>Male</td>\n",
       "      <td>0</td>\n",
       "      <td>No</td>\n",
       "      <td>No</td>\n",
       "      <td>19</td>\n",
       "      <td>Yes</td>\n",
       "      <td>No</td>\n",
       "      <td>DSL</td>\n",
       "      <td>No</td>\n",
       "      <td>No</td>\n",
       "      <td>Yes</td>\n",
       "      <td>Yes</td>\n",
       "      <td>No</td>\n",
       "      <td>No</td>\n",
       "      <td>Month-to-month</td>\n",
       "      <td>Yes</td>\n",
       "      <td>Credit card (automatic)</td>\n",
       "      <td>55.00</td>\n",
       "      <td>1046.5</td>\n",
       "      <td>Yes</td>\n",
       "    </tr>\n",
       "    <tr>\n",
       "      <th>2</th>\n",
       "      <td>0567-XRHCU</td>\n",
       "      <td>Female</td>\n",
       "      <td>0</td>\n",
       "      <td>Yes</td>\n",
       "      <td>Yes</td>\n",
       "      <td>69</td>\n",
       "      <td>No</td>\n",
       "      <td>No phone service</td>\n",
       "      <td>DSL</td>\n",
       "      <td>Yes</td>\n",
       "      <td>No</td>\n",
       "      <td>Yes</td>\n",
       "      <td>No</td>\n",
       "      <td>No</td>\n",
       "      <td>Yes</td>\n",
       "      <td>Two year</td>\n",
       "      <td>Yes</td>\n",
       "      <td>Credit card (automatic)</td>\n",
       "      <td>43.95</td>\n",
       "      <td>2960.1</td>\n",
       "      <td>No</td>\n",
       "    </tr>\n",
       "    <tr>\n",
       "      <th>3</th>\n",
       "      <td>1867-BDVFH</td>\n",
       "      <td>Male</td>\n",
       "      <td>0</td>\n",
       "      <td>Yes</td>\n",
       "      <td>Yes</td>\n",
       "      <td>11</td>\n",
       "      <td>Yes</td>\n",
       "      <td>Yes</td>\n",
       "      <td>Fiber optic</td>\n",
       "      <td>No</td>\n",
       "      <td>No</td>\n",
       "      <td>No</td>\n",
       "      <td>No</td>\n",
       "      <td>No</td>\n",
       "      <td>No</td>\n",
       "      <td>Month-to-month</td>\n",
       "      <td>Yes</td>\n",
       "      <td>Electronic check</td>\n",
       "      <td>74.35</td>\n",
       "      <td>834.2</td>\n",
       "      <td>Yes</td>\n",
       "    </tr>\n",
       "    <tr>\n",
       "      <th>4</th>\n",
       "      <td>2067-QYTCF</td>\n",
       "      <td>Female</td>\n",
       "      <td>0</td>\n",
       "      <td>Yes</td>\n",
       "      <td>No</td>\n",
       "      <td>64</td>\n",
       "      <td>Yes</td>\n",
       "      <td>Yes</td>\n",
       "      <td>Fiber optic</td>\n",
       "      <td>No</td>\n",
       "      <td>Yes</td>\n",
       "      <td>Yes</td>\n",
       "      <td>Yes</td>\n",
       "      <td>Yes</td>\n",
       "      <td>Yes</td>\n",
       "      <td>Month-to-month</td>\n",
       "      <td>Yes</td>\n",
       "      <td>Electronic check</td>\n",
       "      <td>111.15</td>\n",
       "      <td>6953.4</td>\n",
       "      <td>No</td>\n",
       "    </tr>\n",
       "  </tbody>\n",
       "</table>\n",
       "</div>"
      ],
      "text/plain": [
       "   customerID  gender  SeniorCitizen Partner Dependents  tenure PhoneService  \\\n",
       "0  5600-PDUJF    Male              0      No         No       6          Yes   \n",
       "1  8292-TYSPY    Male              0      No         No      19          Yes   \n",
       "2  0567-XRHCU  Female              0     Yes        Yes      69           No   \n",
       "3  1867-BDVFH    Male              0     Yes        Yes      11          Yes   \n",
       "4  2067-QYTCF  Female              0     Yes         No      64          Yes   \n",
       "\n",
       "      MultipleLines InternetService OnlineSecurity OnlineBackup  \\\n",
       "0                No             DSL             No           No   \n",
       "1                No             DSL             No           No   \n",
       "2  No phone service             DSL            Yes           No   \n",
       "3               Yes     Fiber optic             No           No   \n",
       "4               Yes     Fiber optic             No          Yes   \n",
       "\n",
       "  DeviceProtection TechSupport StreamingTV StreamingMovies        Contract  \\\n",
       "0               No         Yes          No              No  Month-to-month   \n",
       "1              Yes         Yes          No              No  Month-to-month   \n",
       "2              Yes          No          No             Yes        Two year   \n",
       "3               No          No          No              No  Month-to-month   \n",
       "4              Yes         Yes         Yes             Yes  Month-to-month   \n",
       "\n",
       "  PaperlessBilling            PaymentMethod  MonthlyCharges TotalCharges Churn  \n",
       "0              Yes  Credit card (automatic)           49.50        312.7    No  \n",
       "1              Yes  Credit card (automatic)           55.00       1046.5   Yes  \n",
       "2              Yes  Credit card (automatic)           43.95       2960.1    No  \n",
       "3              Yes         Electronic check           74.35        834.2   Yes  \n",
       "4              Yes         Electronic check          111.15       6953.4    No  "
      ]
     },
     "execution_count": 10,
     "metadata": {},
     "output_type": "execute_result"
    }
   ],
   "source": [
    "train_df2.head()"
   ]
  },
  {
   "cell_type": "code",
   "execution_count": 11,
   "metadata": {},
   "outputs": [
    {
     "name": "stdout",
     "output_type": "stream",
     "text": [
      "<class 'pandas.core.frame.DataFrame'>\n",
      "RangeIndex: 2043 entries, 0 to 2042\n",
      "Data columns (total 21 columns):\n",
      " #   Column            Non-Null Count  Dtype  \n",
      "---  ------            --------------  -----  \n",
      " 0   customerID        2043 non-null   object \n",
      " 1   gender            2043 non-null   object \n",
      " 2   SeniorCitizen     2043 non-null   int64  \n",
      " 3   Partner           2043 non-null   object \n",
      " 4   Dependents        2043 non-null   object \n",
      " 5   tenure            2043 non-null   int64  \n",
      " 6   PhoneService      2043 non-null   object \n",
      " 7   MultipleLines     2043 non-null   object \n",
      " 8   InternetService   2043 non-null   object \n",
      " 9   OnlineSecurity    2043 non-null   object \n",
      " 10  OnlineBackup      2043 non-null   object \n",
      " 11  DeviceProtection  2043 non-null   object \n",
      " 12  TechSupport       2043 non-null   object \n",
      " 13  StreamingTV       2043 non-null   object \n",
      " 14  StreamingMovies   2043 non-null   object \n",
      " 15  Contract          2043 non-null   object \n",
      " 16  PaperlessBilling  2043 non-null   object \n",
      " 17  PaymentMethod     2043 non-null   object \n",
      " 18  MonthlyCharges    2043 non-null   float64\n",
      " 19  TotalCharges      2043 non-null   object \n",
      " 20  Churn             2043 non-null   object \n",
      "dtypes: float64(1), int64(2), object(18)\n",
      "memory usage: 335.3+ KB\n"
     ]
    }
   ],
   "source": [
    "train_df2.info()"
   ]
  },
  {
   "cell_type": "code",
   "execution_count": 12,
   "metadata": {},
   "outputs": [
    {
     "data": {
      "text/plain": [
       "customerID          0\n",
       "gender              0\n",
       "SeniorCitizen       0\n",
       "Partner             0\n",
       "Dependents          0\n",
       "tenure              0\n",
       "PhoneService        0\n",
       "MultipleLines       0\n",
       "InternetService     0\n",
       "OnlineSecurity      0\n",
       "OnlineBackup        0\n",
       "DeviceProtection    0\n",
       "TechSupport         0\n",
       "StreamingTV         0\n",
       "StreamingMovies     0\n",
       "Contract            0\n",
       "PaperlessBilling    0\n",
       "PaymentMethod       0\n",
       "MonthlyCharges      0\n",
       "TotalCharges        0\n",
       "Churn               0\n",
       "dtype: int64"
      ]
     },
     "execution_count": 12,
     "metadata": {},
     "output_type": "execute_result"
    }
   ],
   "source": [
    "train_df2.isna().sum()"
   ]
  },
  {
   "cell_type": "code",
   "execution_count": 18,
   "metadata": {},
   "outputs": [
    {
     "data": {
      "text/plain": [
       "customerID          2043\n",
       "gender                 2\n",
       "SeniorCitizen          2\n",
       "Partner                2\n",
       "Dependents             2\n",
       "tenure                73\n",
       "PhoneService           2\n",
       "MultipleLines          3\n",
       "InternetService        3\n",
       "OnlineSecurity         3\n",
       "OnlineBackup           3\n",
       "DeviceProtection       3\n",
       "TechSupport            3\n",
       "StreamingTV            3\n",
       "StreamingMovies        3\n",
       "Contract               3\n",
       "PaperlessBilling       2\n",
       "PaymentMethod          4\n",
       "MonthlyCharges      1029\n",
       "TotalCharges        1991\n",
       "Churn                  2\n",
       "dtype: int64"
      ]
     },
     "execution_count": 18,
     "metadata": {},
     "output_type": "execute_result"
    }
   ],
   "source": [
    "train_df2.nunique()"
   ]
  },
  {
   "cell_type": "code",
   "execution_count": 13,
   "metadata": {},
   "outputs": [
    {
     "data": {
      "text/plain": [
       "np.int64(0)"
      ]
     },
     "execution_count": 13,
     "metadata": {},
     "output_type": "execute_result"
    }
   ],
   "source": [
    "train_df2.duplicated().sum()"
   ]
  },
  {
   "cell_type": "code",
   "execution_count": 14,
   "metadata": {},
   "outputs": [
    {
     "data": {
      "text/plain": [
       "(2043, 21)"
      ]
     },
     "execution_count": 14,
     "metadata": {},
     "output_type": "execute_result"
    }
   ],
   "source": [
    "train_df2.shape"
   ]
  },
  {
   "cell_type": "code",
   "execution_count": null,
   "metadata": {},
   "outputs": [],
   "source": []
  },
  {
   "cell_type": "code",
   "execution_count": 19,
   "metadata": {},
   "outputs": [],
   "source": [
    "# Loading the test dataframe as test_df\n",
    "test_df = pd.read_excel('Telco-churn-last-2000.xlsx')"
   ]
  },
  {
   "cell_type": "code",
   "execution_count": 21,
   "metadata": {},
   "outputs": [
    {
     "data": {
      "text/html": [
       "<div>\n",
       "<style scoped>\n",
       "    .dataframe tbody tr th:only-of-type {\n",
       "        vertical-align: middle;\n",
       "    }\n",
       "\n",
       "    .dataframe tbody tr th {\n",
       "        vertical-align: top;\n",
       "    }\n",
       "\n",
       "    .dataframe thead th {\n",
       "        text-align: right;\n",
       "    }\n",
       "</style>\n",
       "<table border=\"1\" class=\"dataframe\">\n",
       "  <thead>\n",
       "    <tr style=\"text-align: right;\">\n",
       "      <th></th>\n",
       "      <th>customerID</th>\n",
       "      <th>gender</th>\n",
       "      <th>SeniorCitizen</th>\n",
       "      <th>Partner</th>\n",
       "      <th>Dependents</th>\n",
       "      <th>tenure</th>\n",
       "      <th>PhoneService</th>\n",
       "      <th>MultipleLines</th>\n",
       "      <th>InternetService</th>\n",
       "      <th>OnlineSecurity</th>\n",
       "      <th>OnlineBackup</th>\n",
       "      <th>DeviceProtection</th>\n",
       "      <th>TechSupport</th>\n",
       "      <th>StreamingTV</th>\n",
       "      <th>StreamingMovies</th>\n",
       "      <th>Contract</th>\n",
       "      <th>PaperlessBilling</th>\n",
       "      <th>PaymentMethod</th>\n",
       "      <th>MonthlyCharges</th>\n",
       "      <th>TotalCharges</th>\n",
       "    </tr>\n",
       "  </thead>\n",
       "  <tbody>\n",
       "    <tr>\n",
       "      <th>0</th>\n",
       "      <td>7613-LLQFO</td>\n",
       "      <td>Male</td>\n",
       "      <td>0</td>\n",
       "      <td>No</td>\n",
       "      <td>No</td>\n",
       "      <td>12</td>\n",
       "      <td>Yes</td>\n",
       "      <td>Yes</td>\n",
       "      <td>Fiber optic</td>\n",
       "      <td>No</td>\n",
       "      <td>No</td>\n",
       "      <td>No</td>\n",
       "      <td>No</td>\n",
       "      <td>Yes</td>\n",
       "      <td>No</td>\n",
       "      <td>Month-to-month</td>\n",
       "      <td>Yes</td>\n",
       "      <td>Electronic check</td>\n",
       "      <td>84.45</td>\n",
       "      <td>1059.55</td>\n",
       "    </tr>\n",
       "    <tr>\n",
       "      <th>1</th>\n",
       "      <td>4568-TTZRT</td>\n",
       "      <td>Male</td>\n",
       "      <td>0</td>\n",
       "      <td>No</td>\n",
       "      <td>No</td>\n",
       "      <td>9</td>\n",
       "      <td>Yes</td>\n",
       "      <td>No</td>\n",
       "      <td>No</td>\n",
       "      <td>No internet service</td>\n",
       "      <td>No internet service</td>\n",
       "      <td>No internet service</td>\n",
       "      <td>No internet service</td>\n",
       "      <td>No internet service</td>\n",
       "      <td>No internet service</td>\n",
       "      <td>Month-to-month</td>\n",
       "      <td>No</td>\n",
       "      <td>Mailed check</td>\n",
       "      <td>20.40</td>\n",
       "      <td>181.8</td>\n",
       "    </tr>\n",
       "    <tr>\n",
       "      <th>2</th>\n",
       "      <td>9513-DXHDA</td>\n",
       "      <td>Male</td>\n",
       "      <td>0</td>\n",
       "      <td>No</td>\n",
       "      <td>No</td>\n",
       "      <td>27</td>\n",
       "      <td>Yes</td>\n",
       "      <td>No</td>\n",
       "      <td>DSL</td>\n",
       "      <td>Yes</td>\n",
       "      <td>No</td>\n",
       "      <td>Yes</td>\n",
       "      <td>Yes</td>\n",
       "      <td>Yes</td>\n",
       "      <td>Yes</td>\n",
       "      <td>One year</td>\n",
       "      <td>No</td>\n",
       "      <td>Electronic check</td>\n",
       "      <td>81.70</td>\n",
       "      <td>2212.55</td>\n",
       "    </tr>\n",
       "    <tr>\n",
       "      <th>3</th>\n",
       "      <td>2640-PMGFL</td>\n",
       "      <td>Male</td>\n",
       "      <td>0</td>\n",
       "      <td>No</td>\n",
       "      <td>Yes</td>\n",
       "      <td>27</td>\n",
       "      <td>Yes</td>\n",
       "      <td>Yes</td>\n",
       "      <td>Fiber optic</td>\n",
       "      <td>No</td>\n",
       "      <td>No</td>\n",
       "      <td>No</td>\n",
       "      <td>Yes</td>\n",
       "      <td>No</td>\n",
       "      <td>No</td>\n",
       "      <td>Month-to-month</td>\n",
       "      <td>Yes</td>\n",
       "      <td>Electronic check</td>\n",
       "      <td>79.50</td>\n",
       "      <td>2180.55</td>\n",
       "    </tr>\n",
       "    <tr>\n",
       "      <th>4</th>\n",
       "      <td>3801-HMYNL</td>\n",
       "      <td>Male</td>\n",
       "      <td>0</td>\n",
       "      <td>Yes</td>\n",
       "      <td>Yes</td>\n",
       "      <td>1</td>\n",
       "      <td>Yes</td>\n",
       "      <td>No</td>\n",
       "      <td>Fiber optic</td>\n",
       "      <td>No</td>\n",
       "      <td>No</td>\n",
       "      <td>No</td>\n",
       "      <td>No</td>\n",
       "      <td>Yes</td>\n",
       "      <td>Yes</td>\n",
       "      <td>Month-to-month</td>\n",
       "      <td>No</td>\n",
       "      <td>Mailed check</td>\n",
       "      <td>89.15</td>\n",
       "      <td>89.15</td>\n",
       "    </tr>\n",
       "  </tbody>\n",
       "</table>\n",
       "</div>"
      ],
      "text/plain": [
       "   customerID gender  SeniorCitizen Partner Dependents  tenure PhoneService  \\\n",
       "0  7613-LLQFO   Male              0      No         No      12          Yes   \n",
       "1  4568-TTZRT   Male              0      No         No       9          Yes   \n",
       "2  9513-DXHDA   Male              0      No         No      27          Yes   \n",
       "3  2640-PMGFL   Male              0      No        Yes      27          Yes   \n",
       "4  3801-HMYNL   Male              0     Yes        Yes       1          Yes   \n",
       "\n",
       "  MultipleLines InternetService       OnlineSecurity         OnlineBackup  \\\n",
       "0           Yes     Fiber optic                   No                   No   \n",
       "1            No              No  No internet service  No internet service   \n",
       "2            No             DSL                  Yes                   No   \n",
       "3           Yes     Fiber optic                   No                   No   \n",
       "4            No     Fiber optic                   No                   No   \n",
       "\n",
       "      DeviceProtection          TechSupport          StreamingTV  \\\n",
       "0                   No                   No                  Yes   \n",
       "1  No internet service  No internet service  No internet service   \n",
       "2                  Yes                  Yes                  Yes   \n",
       "3                   No                  Yes                   No   \n",
       "4                   No                   No                  Yes   \n",
       "\n",
       "       StreamingMovies        Contract PaperlessBilling     PaymentMethod  \\\n",
       "0                   No  Month-to-month              Yes  Electronic check   \n",
       "1  No internet service  Month-to-month               No      Mailed check   \n",
       "2                  Yes        One year               No  Electronic check   \n",
       "3                   No  Month-to-month              Yes  Electronic check   \n",
       "4                  Yes  Month-to-month               No      Mailed check   \n",
       "\n",
       "   MonthlyCharges TotalCharges  \n",
       "0           84.45      1059.55  \n",
       "1           20.40        181.8  \n",
       "2           81.70      2212.55  \n",
       "3           79.50      2180.55  \n",
       "4           89.15        89.15  "
      ]
     },
     "execution_count": 21,
     "metadata": {},
     "output_type": "execute_result"
    }
   ],
   "source": [
    "test_df.head()"
   ]
  },
  {
   "cell_type": "code",
   "execution_count": 20,
   "metadata": {},
   "outputs": [
    {
     "name": "stdout",
     "output_type": "stream",
     "text": [
      "<class 'pandas.core.frame.DataFrame'>\n",
      "RangeIndex: 2000 entries, 0 to 1999\n",
      "Data columns (total 20 columns):\n",
      " #   Column            Non-Null Count  Dtype  \n",
      "---  ------            --------------  -----  \n",
      " 0   customerID        2000 non-null   object \n",
      " 1   gender            2000 non-null   object \n",
      " 2   SeniorCitizen     2000 non-null   int64  \n",
      " 3   Partner           2000 non-null   object \n",
      " 4   Dependents        2000 non-null   object \n",
      " 5   tenure            2000 non-null   int64  \n",
      " 6   PhoneService      2000 non-null   object \n",
      " 7   MultipleLines     2000 non-null   object \n",
      " 8   InternetService   2000 non-null   object \n",
      " 9   OnlineSecurity    2000 non-null   object \n",
      " 10  OnlineBackup      2000 non-null   object \n",
      " 11  DeviceProtection  2000 non-null   object \n",
      " 12  TechSupport       2000 non-null   object \n",
      " 13  StreamingTV       2000 non-null   object \n",
      " 14  StreamingMovies   2000 non-null   object \n",
      " 15  Contract          2000 non-null   object \n",
      " 16  PaperlessBilling  2000 non-null   object \n",
      " 17  PaymentMethod     2000 non-null   object \n",
      " 18  MonthlyCharges    2000 non-null   float64\n",
      " 19  TotalCharges      2000 non-null   object \n",
      "dtypes: float64(1), int64(2), object(17)\n",
      "memory usage: 312.6+ KB\n"
     ]
    }
   ],
   "source": [
    "test_df.info()"
   ]
  },
  {
   "cell_type": "code",
   "execution_count": 22,
   "metadata": {},
   "outputs": [
    {
     "data": {
      "text/plain": [
       "customerID          0\n",
       "gender              0\n",
       "SeniorCitizen       0\n",
       "Partner             0\n",
       "Dependents          0\n",
       "tenure              0\n",
       "PhoneService        0\n",
       "MultipleLines       0\n",
       "InternetService     0\n",
       "OnlineSecurity      0\n",
       "OnlineBackup        0\n",
       "DeviceProtection    0\n",
       "TechSupport         0\n",
       "StreamingTV         0\n",
       "StreamingMovies     0\n",
       "Contract            0\n",
       "PaperlessBilling    0\n",
       "PaymentMethod       0\n",
       "MonthlyCharges      0\n",
       "TotalCharges        0\n",
       "dtype: int64"
      ]
     },
     "execution_count": 22,
     "metadata": {},
     "output_type": "execute_result"
    }
   ],
   "source": [
    "test_df.isna().sum()"
   ]
  },
  {
   "cell_type": "code",
   "execution_count": 23,
   "metadata": {},
   "outputs": [
    {
     "data": {
      "text/plain": [
       "customerID          2000\n",
       "gender                 2\n",
       "SeniorCitizen          2\n",
       "Partner                2\n",
       "Dependents             2\n",
       "tenure                73\n",
       "PhoneService           2\n",
       "MultipleLines          3\n",
       "InternetService        3\n",
       "OnlineSecurity         3\n",
       "OnlineBackup           3\n",
       "DeviceProtection       3\n",
       "TechSupport            3\n",
       "StreamingTV            3\n",
       "StreamingMovies        3\n",
       "Contract               3\n",
       "PaperlessBilling       2\n",
       "PaymentMethod          4\n",
       "MonthlyCharges       986\n",
       "TotalCharges        1930\n",
       "dtype: int64"
      ]
     },
     "execution_count": 23,
     "metadata": {},
     "output_type": "execute_result"
    }
   ],
   "source": [
    "test_df.nunique()"
   ]
  },
  {
   "cell_type": "code",
   "execution_count": 24,
   "metadata": {},
   "outputs": [
    {
     "data": {
      "text/plain": [
       "np.int64(0)"
      ]
     },
     "execution_count": 24,
     "metadata": {},
     "output_type": "execute_result"
    }
   ],
   "source": [
    "test_df.duplicated().sum()"
   ]
  },
  {
   "cell_type": "code",
   "execution_count": 25,
   "metadata": {},
   "outputs": [
    {
     "data": {
      "text/plain": [
       "(2000, 20)"
      ]
     },
     "execution_count": 25,
     "metadata": {},
     "output_type": "execute_result"
    }
   ],
   "source": [
    "test_df.shape"
   ]
  },
  {
   "cell_type": "code",
   "execution_count": null,
   "metadata": {},
   "outputs": [],
   "source": []
  },
  {
   "cell_type": "markdown",
   "metadata": {},
   "source": [
    "2.4 Exploring the data"
   ]
  },
  {
   "cell_type": "code",
   "execution_count": 26,
   "metadata": {},
   "outputs": [
    {
     "name": "stdout",
     "output_type": "stream",
     "text": [
      "<class 'pandas.core.frame.DataFrame'>\n",
      "RangeIndex: 3000 entries, 0 to 2999\n",
      "Data columns (total 21 columns):\n",
      " #   Column            Non-Null Count  Dtype  \n",
      "---  ------            --------------  -----  \n",
      " 0   customerID        3000 non-null   object \n",
      " 1   gender            3000 non-null   object \n",
      " 2   SeniorCitizen     3000 non-null   bool   \n",
      " 3   Partner           3000 non-null   bool   \n",
      " 4   Dependents        3000 non-null   bool   \n",
      " 5   tenure            3000 non-null   int64  \n",
      " 6   PhoneService      3000 non-null   bool   \n",
      " 7   MultipleLines     2731 non-null   object \n",
      " 8   InternetService   3000 non-null   object \n",
      " 9   OnlineSecurity    2349 non-null   object \n",
      " 10  OnlineBackup      2349 non-null   object \n",
      " 11  DeviceProtection  2349 non-null   object \n",
      " 12  TechSupport       2349 non-null   object \n",
      " 13  StreamingTV       2349 non-null   object \n",
      " 14  StreamingMovies   2349 non-null   object \n",
      " 15  Contract          3000 non-null   object \n",
      " 16  PaperlessBilling  3000 non-null   bool   \n",
      " 17  PaymentMethod     3000 non-null   object \n",
      " 18  MonthlyCharges    3000 non-null   float64\n",
      " 19  TotalCharges      2995 non-null   float64\n",
      " 20  Churn             2999 non-null   object \n",
      "dtypes: bool(5), float64(2), int64(1), object(13)\n",
      "memory usage: 389.8+ KB\n"
     ]
    }
   ],
   "source": [
    "# Understanding the data type and information about  train_df1\n",
    "train_df1.info()"
   ]
  },
  {
   "cell_type": "code",
   "execution_count": null,
   "metadata": {},
   "outputs": [],
   "source": []
  },
  {
   "cell_type": "code",
   "execution_count": 27,
   "metadata": {},
   "outputs": [
    {
     "data": {
      "text/html": [
       "<div>\n",
       "<style scoped>\n",
       "    .dataframe tbody tr th:only-of-type {\n",
       "        vertical-align: middle;\n",
       "    }\n",
       "\n",
       "    .dataframe tbody tr th {\n",
       "        vertical-align: top;\n",
       "    }\n",
       "\n",
       "    .dataframe thead th {\n",
       "        text-align: right;\n",
       "    }\n",
       "</style>\n",
       "<table border=\"1\" class=\"dataframe\">\n",
       "  <thead>\n",
       "    <tr style=\"text-align: right;\">\n",
       "      <th></th>\n",
       "      <th>tenure</th>\n",
       "      <th>MonthlyCharges</th>\n",
       "      <th>TotalCharges</th>\n",
       "    </tr>\n",
       "  </thead>\n",
       "  <tbody>\n",
       "    <tr>\n",
       "      <th>count</th>\n",
       "      <td>3000.000000</td>\n",
       "      <td>3000.000000</td>\n",
       "      <td>2995.000000</td>\n",
       "    </tr>\n",
       "    <tr>\n",
       "      <th>mean</th>\n",
       "      <td>32.527333</td>\n",
       "      <td>65.347400</td>\n",
       "      <td>2301.278315</td>\n",
       "    </tr>\n",
       "    <tr>\n",
       "      <th>std</th>\n",
       "      <td>24.637768</td>\n",
       "      <td>30.137053</td>\n",
       "      <td>2274.987884</td>\n",
       "    </tr>\n",
       "    <tr>\n",
       "      <th>min</th>\n",
       "      <td>0.000000</td>\n",
       "      <td>18.400000</td>\n",
       "      <td>18.799999</td>\n",
       "    </tr>\n",
       "    <tr>\n",
       "      <th>25%</th>\n",
       "      <td>9.000000</td>\n",
       "      <td>35.787499</td>\n",
       "      <td>415.250000</td>\n",
       "    </tr>\n",
       "    <tr>\n",
       "      <th>50%</th>\n",
       "      <td>29.000000</td>\n",
       "      <td>70.900002</td>\n",
       "      <td>1404.650024</td>\n",
       "    </tr>\n",
       "    <tr>\n",
       "      <th>75%</th>\n",
       "      <td>56.000000</td>\n",
       "      <td>90.262501</td>\n",
       "      <td>3868.725098</td>\n",
       "    </tr>\n",
       "    <tr>\n",
       "      <th>max</th>\n",
       "      <td>72.000000</td>\n",
       "      <td>118.650002</td>\n",
       "      <td>8564.750000</td>\n",
       "    </tr>\n",
       "  </tbody>\n",
       "</table>\n",
       "</div>"
      ],
      "text/plain": [
       "            tenure  MonthlyCharges  TotalCharges\n",
       "count  3000.000000     3000.000000   2995.000000\n",
       "mean     32.527333       65.347400   2301.278315\n",
       "std      24.637768       30.137053   2274.987884\n",
       "min       0.000000       18.400000     18.799999\n",
       "25%       9.000000       35.787499    415.250000\n",
       "50%      29.000000       70.900002   1404.650024\n",
       "75%      56.000000       90.262501   3868.725098\n",
       "max      72.000000      118.650002   8564.750000"
      ]
     },
     "execution_count": 27,
     "metadata": {},
     "output_type": "execute_result"
    }
   ],
   "source": [
    "# Describing train_df1\n",
    "train_df1.describe()"
   ]
  },
  {
   "cell_type": "code",
   "execution_count": null,
   "metadata": {},
   "outputs": [],
   "source": []
  },
  {
   "cell_type": "code",
   "execution_count": 28,
   "metadata": {},
   "outputs": [
    {
     "name": "stdout",
     "output_type": "stream",
     "text": [
      "      customerID  gender  SeniorCitizen  Partner  Dependents  tenure  \\\n",
      "0          False   False          False    False       False   False   \n",
      "1          False   False          False    False       False   False   \n",
      "2          False   False          False    False       False   False   \n",
      "3          False   False          False    False       False   False   \n",
      "4          False   False          False    False       False   False   \n",
      "...          ...     ...            ...      ...         ...     ...   \n",
      "2995       False   False          False    False       False   False   \n",
      "2996       False   False          False    False       False   False   \n",
      "2997       False   False          False    False       False   False   \n",
      "2998       False   False          False    False       False   False   \n",
      "2999       False   False          False    False       False   False   \n",
      "\n",
      "      PhoneService  MultipleLines  InternetService  OnlineSecurity  \\\n",
      "0            False           True            False           False   \n",
      "1            False          False            False           False   \n",
      "2            False          False            False           False   \n",
      "3            False           True            False           False   \n",
      "4            False          False            False           False   \n",
      "...            ...            ...              ...             ...   \n",
      "2995         False           True            False           False   \n",
      "2996         False          False            False           False   \n",
      "2997         False          False            False           False   \n",
      "2998         False          False            False           False   \n",
      "2999         False          False            False            True   \n",
      "\n",
      "      OnlineBackup  DeviceProtection  TechSupport  StreamingTV  \\\n",
      "0            False             False        False        False   \n",
      "1            False             False        False        False   \n",
      "2            False             False        False        False   \n",
      "3            False             False        False        False   \n",
      "4            False             False        False        False   \n",
      "...            ...               ...          ...          ...   \n",
      "2995         False             False        False        False   \n",
      "2996         False             False        False        False   \n",
      "2997         False             False        False        False   \n",
      "2998         False             False        False        False   \n",
      "2999          True              True         True         True   \n",
      "\n",
      "      StreamingMovies  Contract  PaperlessBilling  PaymentMethod  \\\n",
      "0               False     False             False          False   \n",
      "1               False     False             False          False   \n",
      "2               False     False             False          False   \n",
      "3               False     False             False          False   \n",
      "4               False     False             False          False   \n",
      "...               ...       ...               ...            ...   \n",
      "2995            False     False             False          False   \n",
      "2996            False     False             False          False   \n",
      "2997            False     False             False          False   \n",
      "2998            False     False             False          False   \n",
      "2999             True     False             False          False   \n",
      "\n",
      "      MonthlyCharges  TotalCharges  Churn  \n",
      "0              False         False  False  \n",
      "1              False         False  False  \n",
      "2              False         False  False  \n",
      "3              False         False  False  \n",
      "4              False         False  False  \n",
      "...              ...           ...    ...  \n",
      "2995           False         False  False  \n",
      "2996           False         False  False  \n",
      "2997           False         False  False  \n",
      "2998           False         False  False  \n",
      "2999           False         False  False  \n",
      "\n",
      "[3000 rows x 21 columns]\n"
     ]
    }
   ],
   "source": [
    "# Missing values (Nan) in train_df1\n",
    "missing_values = train_df1.isnull()\n",
    "print(missing_values)\n"
   ]
  }
 ],
 "metadata": {
  "kernelspec": {
   "display_name": "Python 3",
   "language": "python",
   "name": "python3"
  },
  "language_info": {
   "codemirror_mode": {
    "name": "ipython",
    "version": 3
   },
   "file_extension": ".py",
   "mimetype": "text/x-python",
   "name": "python",
   "nbconvert_exporter": "python",
   "pygments_lexer": "ipython3",
   "version": "3.10.11"
  }
 },
 "nbformat": 4,
 "nbformat_minor": 2
}
